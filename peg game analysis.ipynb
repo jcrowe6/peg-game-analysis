{
 "cells": [
  {
   "cell_type": "code",
   "execution_count": 251,
   "id": "bca20541",
   "metadata": {},
   "outputs": [],
   "source": [
    "import numpy as np\n",
    "import copy, time"
   ]
  },
  {
   "cell_type": "code",
   "execution_count": 256,
   "id": "f5504ae4",
   "metadata": {},
   "outputs": [],
   "source": [
    "class pos:\n",
    "    def __init__(self, r, c):\n",
    "        self.row = r\n",
    "        self.col = c\n",
    "    def __str__(self):\n",
    "        return f'({self.row},{self.col})'\n",
    "    def __repr__(self):\n",
    "        return f'({self.row},{self.col})'"
   ]
  },
  {
   "cell_type": "code",
   "execution_count": 259,
   "id": "840d57f5",
   "metadata": {},
   "outputs": [],
   "source": [
    "# Represents a game board of any number of rows (at cracker barrel - 5)\n",
    "# game board is a triangular list of lists - [[1],[2,3],[4,5,6]...]\n",
    "# Implements useful methods for running simulations - all_spots() generator, jump(), neighbors(), etc.\n",
    "class board:\n",
    "    def __init__(self, rows):\n",
    "        self.board = []\n",
    "        for i in range(rows):\n",
    "            self.board.append([1]*(i+1))\n",
    "        self.board[0][0] = 0\n",
    "        self.max_moves = len(self.flatten())-2\n",
    "        self.win_count = 0\n",
    "        \n",
    "        \n",
    "    def __str__(self):\n",
    "        s = ''\n",
    "        for row in self.board:\n",
    "            s += str(row) + '\\n'\n",
    "        return s\n",
    "    \n",
    "    # generator, yields all positions on the board from top to bottom, left to right\n",
    "    def all_spots(self):\n",
    "        for r in range(len(self.board)):\n",
    "            for c in range(r+1):\n",
    "                yield pos(r,c)\n",
    "    \n",
    "    # returns tuple of the board, flattened to a 1d array\n",
    "    def flatten(self):\n",
    "        return tuple([self.board[p.row][p.col] for p in self.all_spots()])\n",
    "    \n",
    "    # resets the board with full pegs, and an empty spot at the given pos\n",
    "    def start(self, init_pos):\n",
    "        for p in self.all_spots():\n",
    "            self.board[p.row][p.col] = 1\n",
    "        self.board[init_pos.row][init_pos.col] = 0\n",
    "    \n",
    "    # gets position of spot from jumping a over b\n",
    "    def get_over_pos(self, a, b):\n",
    "        c = pos(None,None)\n",
    "        c.row = a.row if a.row == b.row else (b.row+1 if b.row > a.row else b.row-1)\n",
    "        if c.row < 0 or c.row >= len(self.board):\n",
    "            return None\n",
    "        # 3 cases: same row,  a above b, a below b\n",
    "        if a.row == b.row:\n",
    "            c.col = b.col+1 if b.col > a.col else b.col - 1\n",
    "        elif a.row < b.row:\n",
    "            if a.col == b.col:\n",
    "                c.col = b.col\n",
    "            elif b.col == a.col+1:\n",
    "                c.col = b.col+1\n",
    "            else:\n",
    "                return None\n",
    "        elif a.row > b.row:\n",
    "            if a.col == b.col:\n",
    "                c.col = b.col\n",
    "            elif b.col == a.col-1:\n",
    "                c.col = b.col-1\n",
    "            else:\n",
    "                return None\n",
    "        if c.col < 0 or c.col > c.row:\n",
    "            return None\n",
    "        return c\n",
    "        \n",
    "    # jumps piece at a over piece at b, removing piece at b. returns new position of piece a\n",
    "    def jump(self, a, b):\n",
    "        c = self.get_over_pos(a,b)\n",
    "        if c == None:\n",
    "            return None\n",
    "        elif self.board[c.row][c.col] != 0 or self.board[a.row][a.col] != 1 or self.board[b.row][b.col] != 1:\n",
    "            return None\n",
    "        else:\n",
    "            # new_b = copy.deepcopy(self) #slow slow slow!!!\n",
    "            self.board[c.row][c.col] = 1\n",
    "            self.board[a.row][a.col] = 0\n",
    "            self.board[b.row][b.col] = 0\n",
    "            return c\n",
    "    \n",
    "    # undoes a jump\n",
    "    def unjump(self, a, b, c):\n",
    "        self.board[c.row][c.col] = 0\n",
    "        self.board[a.row][a.col] = 1\n",
    "        self.board[b.row][b.col] = 1\n",
    "        \n",
    "    # checks that a jump won't send piece out of bounds, and that the pieces do exist at the needed pos's\n",
    "    def can_jump(self, a, b):\n",
    "        c = self.get_over_pos(a,b)\n",
    "        if c == None:\n",
    "            return False\n",
    "        elif self.board[c.row][c.col] != 0 or self.board[a.row][a.col] != 1 or self.board[b.row][b.col] != 1:\n",
    "            return False\n",
    "        else:\n",
    "            return True\n",
    "    \n",
    "    # returns all neighbors of piece that it can jump over \n",
    "    def neighbors(self, a):\n",
    "        nbrs = [pos(a.row, a.col-1),pos(a.row, a.col+1),pos(a.row-1, a.col),\n",
    "                pos(a.row-1, a.col-1),pos(a.row+1, a.col),pos(a.row+1, a.col+1)]\n",
    "        return list(n for n in nbrs if self.can_jump(a,n))\n",
    "    \n",
    "    # win if there is exactly one piece\n",
    "    def is_solved(self):\n",
    "        return sum(self.flatten()) == 1\n",
    "        \n",
    "            "
   ]
  },
  {
   "cell_type": "code",
   "execution_count": null,
   "id": "8a3d6eb5",
   "metadata": {},
   "outputs": [],
   "source": []
  },
  {
   "cell_type": "code",
   "execution_count": 260,
   "id": "4a98f21f",
   "metadata": {},
   "outputs": [],
   "source": [
    "# Given a number of moves d, sets up a game board already at each winning position, and simulates all possible chains of\n",
    "# *reverse moves* up to length d. (a reverse move is just doing an unjump()). that is, this class generates all game states \n",
    "# that are d moves from a winning state. once it finds any of these states, it adds/updates a dict counting the number of chains\n",
    "# that generated a given state.\n",
    "# then, a forward search from a starting position needs only to search 13-d moves forward, then check if the state it \n",
    "# reached is one that can reach a winning position (and it will immediately also have the *number* of paths to a winning state)\n",
    "class reverse_stats(board):\n",
    "    def __init__(self, rows, d):\n",
    "        super().__init__(rows)\n",
    "        self.clear()\n",
    "            \n",
    "        # keys - all states that are depth moves from a solve state, \n",
    "        # vals - the count of paths to a solve state\n",
    "        self.reverse_state_ct = {} \n",
    "        self.max_depth = d\n",
    "        \n",
    "    def clear(self):\n",
    "        for p in self.all_spots():\n",
    "            self.board[p.row][p.col] = 0\n",
    "            \n",
    "            \n",
    "    def not_oob(self, p):\n",
    "        if p.row < 0 or p.col < 0:\n",
    "            return False\n",
    "        if p.row >= len(self.board) or p.col > p.row:\n",
    "            return False\n",
    "        return True\n",
    "    \n",
    "    def can_unjump(self, c, a, b):\n",
    "        if self.not_oob(c) and self.not_oob(a) and self.not_oob(b):\n",
    "            if self.board[c.row][c.col] == 1 and self.board[a.row][a.col] == 0 and self.board[b.row][b.col] == 0:\n",
    "                return True\n",
    "        return False\n",
    "    \n",
    "    def all_unjumps(self):\n",
    "        for p in self.all_spots():\n",
    "            for jump in [(p, pos(p.row, p.col-1), pos(p.row, p.col-2)),\n",
    "                        (p, pos(p.row, p.col+1), pos(p.row, p.col+2)),\n",
    "                        (p, pos(p.row-1, p.col), pos(p.row-2, p.col)),\n",
    "                        (p, pos(p.row-1, p.col-1), pos(p.row-2, p.col-2)),\n",
    "                        (p, pos(p.row+1, p.col), pos(p.row+2, p.col)),\n",
    "                        (p, pos(p.row+1, p.col+1), pos(p.row+2, p.col+2))]:\n",
    "                if self.can_unjump(jump[0],jump[1],jump[2]):\n",
    "                    yield jump\n",
    "    \n",
    "    # begins recursive DFS from all positions that leave just one piece\n",
    "    def fill_allnormalwins(self):\n",
    "        for p in self.all_spots():\n",
    "            self.board[p.row][p.col] = 1\n",
    "            self.fill_reverse(0)\n",
    "            self.clear()\n",
    "            \n",
    "    # recursive DFS that terminates at the given depth and updates the state dict with each state \n",
    "    # takes all possible unjumps()\n",
    "    def fill_reverse(self, depth):\n",
    "        if depth == self.max_depth:\n",
    "            flat = self.flatten()\n",
    "            if flat in self.reverse_state_ct:\n",
    "                self.reverse_state_ct[flat] += 1\n",
    "            else:\n",
    "                self.reverse_state_ct[flat] = 1\n",
    "            return\n",
    "        \n",
    "        for jump in self.all_unjumps():\n",
    "            self.unjump(jump[2],jump[1],jump[0]) # confusing order, I know. but it's after midnight\n",
    "            self.fill_reverse(depth+1)\n",
    "            self.jump(jump[2],jump[1])\n",
    "            \n",
    "        \n",
    "        "
   ]
  },
  {
   "cell_type": "code",
   "execution_count": 267,
   "id": "8ce8bbf3",
   "metadata": {},
   "outputs": [
    {
     "name": "stdout",
     "output_type": "stream",
     "text": [
      "generated all reverse paths 62.72196841239929 sec.\n"
     ]
    }
   ],
   "source": [
    "rs = reverse_stats(5, 7) \n",
    "t = time.time()\n",
    "rs.fill_allnormalwins() # generates all states on the 5-board that are 7 moves from a win\n",
    "print(\"generated all reverse paths\", time.time()-t, \"sec.\")"
   ]
  },
  {
   "cell_type": "code",
   "execution_count": 268,
   "id": "ddc8cfe3",
   "metadata": {},
   "outputs": [
    {
     "name": "stdout",
     "output_type": "stream",
     "text": [
      "2964\n"
     ]
    }
   ],
   "source": [
    "print(len(rs.reverse_state_ct))"
   ]
  },
  {
   "cell_type": "code",
   "execution_count": null,
   "id": "4d2c5808",
   "metadata": {},
   "outputs": [],
   "source": []
  },
  {
   "cell_type": "code",
   "execution_count": 269,
   "id": "2eadeb3e",
   "metadata": {},
   "outputs": [
    {
     "name": "stdout",
     "output_type": "stream",
     "text": [
      "found all forward states in 15.769981622695923 sec\n"
     ]
    }
   ],
   "source": [
    "# starts a forward search from all starting positions\n",
    "def forward_search_all(board):\n",
    "    for p in board.all_spots():\n",
    "        board.start(p)\n",
    "        forward_search(board, 0)\n",
    "\n",
    "# recursive DFS to a depth of max_moves minus the reverse_stats depth. once this depth is reached, the state is checked\n",
    "# on the reverse_stats dict to see if it can lead to a win, and if so, increases the internal win_count by that number of paths\n",
    "def forward_search(board, depth):\n",
    "    if depth == board.max_moves - rs.max_depth:\n",
    "        f = board.flatten()\n",
    "        if f in rs.reverse_state_ct:\n",
    "            board.win_count += rs.reverse_state_ct[f]\n",
    "        return\n",
    "    with_nbrs = [(a, board.neighbors(a)) for a in board.all_spots() if len(board.neighbors(a)) > 0]\n",
    "    for p in with_nbrs:\n",
    "        for b in p[1]:\n",
    "            c = board.jump(p[0],b)\n",
    "            forward_search(board, depth+1)\n",
    "            board.unjump(p[0],b,c)\n",
    "\n",
    "b = board(5)\n",
    "t=time.time()\n",
    "forward_search_all(b) # simulates all 6-move games and updates win_count if state can lead to a win\n",
    "print(\"found all forward states in\", time.time()-t, \"sec\")"
   ]
  },
  {
   "cell_type": "code",
   "execution_count": 270,
   "id": "4e4f1469",
   "metadata": {},
   "outputs": [
    {
     "data": {
      "text/plain": [
       "438984"
      ]
     },
     "execution_count": 270,
     "metadata": {},
     "output_type": "execute_result"
    }
   ],
   "source": [
    "b.win_count"
   ]
  },
  {
   "cell_type": "code",
   "execution_count": null,
   "id": "12633659",
   "metadata": {},
   "outputs": [],
   "source": []
  },
  {
   "cell_type": "code",
   "execution_count": null,
   "id": "8a19dc0e",
   "metadata": {},
   "outputs": [],
   "source": []
  },
  {
   "cell_type": "code",
   "execution_count": null,
   "id": "5ead902e",
   "metadata": {},
   "outputs": [],
   "source": []
  },
  {
   "cell_type": "markdown",
   "id": "6db93431",
   "metadata": {},
   "source": [
    "---\n",
    "Everything below here is failed attempts (when I change tatics, I start again from the top I guess). This was actually my second idea - just operate on the single board, recursively make all moves possible, and at each step, update a dict of (board state)->(count of paths to it) in the board class, resulting in a full count of all states. Then, I could look up each possible end state and read off the count from the dict. This computed all of the states from one starting position in 265 seconds. \n",
    "I thought this was my first success, and it was interesting to see that there are only 4 reachable end states from the starting position I looked at.\n",
    "\n",
    "It was around this time that I looked online to see if others had worked on this problem. The author of [this blog](https://grover.news/2016/03/15/cracker-barrel-conundrum/) analyzed it for all starting positions, and various other win conditions other that \"just leave 1\" - so I figured I could do better. Credit to anitasv for commenting their implementation of a two-sided search which helped me greatly."
   ]
  },
  {
   "cell_type": "code",
   "execution_count": 155,
   "id": "2d1efb0b",
   "metadata": {},
   "outputs": [
    {
     "name": "stdout",
     "output_type": "stream",
     "text": [
      "done in 265.4284505844116\n"
     ]
    }
   ],
   "source": [
    "# recursively takes moves and fills in board's state counts\n",
    "def search(board):\n",
    "    state = tuple(board.flatten()) # whatever state we're at, increase the amount of paths that reach it by 1\n",
    "    if state in board.state_count:\n",
    "        board.state_count[state] += 1\n",
    "    else:\n",
    "        board.state_count[state] = 1\n",
    "    \n",
    "    # then find all possible moves, and recurse into them.\n",
    "    with_nbrs = [(a, board.neighbors(a)) for a in board.all_spots() if len(board.neighbors(a)) > 0]\n",
    "    for p in with_nbrs:\n",
    "        for b in p[1]:\n",
    "            c = board.jump(p[0],b)\n",
    "            search(board)\n",
    "            board.unjump(p[0],b,c)\n",
    "            \n",
    "b = board(5)\n",
    "\n",
    "t = time.time()\n",
    "search(b)\n",
    "print(\"done in\", time.time()-t) \n",
    "# done in 265.4284505844116"
   ]
  },
  {
   "cell_type": "code",
   "execution_count": 152,
   "id": "66b12dad",
   "metadata": {},
   "outputs": [
    {
     "name": "stdout",
     "output_type": "stream",
     "text": [
      "(1, 0, 0, 0, 0, 0, 0, 0, 0, 0, 0, 0, 0, 0, 0) 6816\n",
      "(0, 1, 0, 0, 0, 0, 0, 0, 0, 0, 0, 0, 0, 0, 0) 0\n",
      "(0, 0, 1, 0, 0, 0, 0, 0, 0, 0, 0, 0, 0, 0, 0) 0\n",
      "(0, 0, 0, 1, 0, 0, 0, 0, 0, 0, 0, 0, 0, 0, 0) 0\n",
      "(0, 0, 0, 0, 1, 0, 0, 0, 0, 0, 0, 0, 0, 0, 0) 0\n",
      "(0, 0, 0, 0, 0, 1, 0, 0, 0, 0, 0, 0, 0, 0, 0) 0\n",
      "(0, 0, 0, 0, 0, 0, 1, 0, 0, 0, 0, 0, 0, 0, 0) 3408\n",
      "(0, 0, 0, 0, 0, 0, 0, 1, 0, 0, 0, 0, 0, 0, 0) 0\n",
      "(0, 0, 0, 0, 0, 0, 0, 0, 1, 0, 0, 0, 0, 0, 0) 0\n",
      "(0, 0, 0, 0, 0, 0, 0, 0, 0, 1, 0, 0, 0, 0, 0) 3408\n",
      "(0, 0, 0, 0, 0, 0, 0, 0, 0, 0, 1, 0, 0, 0, 0) 0\n",
      "(0, 0, 0, 0, 0, 0, 0, 0, 0, 0, 0, 1, 0, 0, 0) 0\n",
      "(0, 0, 0, 0, 0, 0, 0, 0, 0, 0, 0, 0, 1, 0, 0) 16128\n",
      "(0, 0, 0, 0, 0, 0, 0, 0, 0, 0, 0, 0, 0, 1, 0) 0\n",
      "(0, 0, 0, 0, 0, 0, 0, 0, 0, 0, 0, 0, 0, 0, 1) 0\n"
     ]
    }
   ],
   "source": [
    "bex = board(5)\n",
    "for p in bex.all_spots():\n",
    "    bex.board[p.row][p.col] = 0\n",
    "for p in bex.all_spots():\n",
    "    bex.board[p.row][p.col] = 1\n",
    "    f = tuple(bex.flatten())\n",
    "    print(f, b.state_count[f] if f in b.state_count else 0)\n",
    "    bex.board[p.row][p.col] = 0\n"
   ]
  },
  {
   "cell_type": "markdown",
   "id": "a05fb447",
   "metadata": {},
   "source": [
    "```\n",
    "(1, 0, 0, 0, 0, 0, 0, 0, 0, 0, 0, 0, 0, 0, 0) 6816\n",
    "(0, 1, 0, 0, 0, 0, 0, 0, 0, 0, 0, 0, 0, 0, 0) 0\n",
    "(0, 0, 1, 0, 0, 0, 0, 0, 0, 0, 0, 0, 0, 0, 0) 0\n",
    "(0, 0, 0, 1, 0, 0, 0, 0, 0, 0, 0, 0, 0, 0, 0) 0\n",
    "(0, 0, 0, 0, 1, 0, 0, 0, 0, 0, 0, 0, 0, 0, 0) 0\n",
    "(0, 0, 0, 0, 0, 1, 0, 0, 0, 0, 0, 0, 0, 0, 0) 0\n",
    "(0, 0, 0, 0, 0, 0, 1, 0, 0, 0, 0, 0, 0, 0, 0) 3408\n",
    "(0, 0, 0, 0, 0, 0, 0, 1, 0, 0, 0, 0, 0, 0, 0) 0\n",
    "(0, 0, 0, 0, 0, 0, 0, 0, 1, 0, 0, 0, 0, 0, 0) 0\n",
    "(0, 0, 0, 0, 0, 0, 0, 0, 0, 1, 0, 0, 0, 0, 0) 3408\n",
    "(0, 0, 0, 0, 0, 0, 0, 0, 0, 0, 1, 0, 0, 0, 0) 0\n",
    "(0, 0, 0, 0, 0, 0, 0, 0, 0, 0, 0, 1, 0, 0, 0) 0\n",
    "(0, 0, 0, 0, 0, 0, 0, 0, 0, 0, 0, 0, 1, 0, 0) 16128\n",
    "(0, 0, 0, 0, 0, 0, 0, 0, 0, 0, 0, 0, 0, 1, 0) 0\n",
    "(0, 0, 0, 0, 0, 0, 0, 0, 0, 0, 0, 0, 0, 0, 1) 0\n",
    "```"
   ]
  },
  {
   "cell_type": "markdown",
   "id": "451b580d",
   "metadata": {},
   "source": [
    "---\n",
    "The following is the work from my first attempt. Originally I thought of a search state being a unique board object/move list pair. Each call to .jump() would copy and return the new board state. \n",
    "DFS with this model returned the first solution it found in about 20 seconds. BFS only reached a depth of 7 moves in 5 minutes. Copying the entire board every move is way too slow to analyze all the game states quickly."
   ]
  },
  {
   "cell_type": "code",
   "execution_count": 61,
   "id": "28bb13c5",
   "metadata": {},
   "outputs": [],
   "source": [
    "# state in the search space\n",
    "# copying board for each state searched is slowwww\n",
    "class state:\n",
    "    def __init__(self, b, m):\n",
    "        self.board = b # board state\n",
    "        self.moves = m # moves leading to state, list of tuples of positions in form of (moved, over)\n",
    "    "
   ]
  },
  {
   "cell_type": "code",
   "execution_count": 62,
   "id": "124422ca",
   "metadata": {},
   "outputs": [],
   "source": [
    "# finds *A* solution in about 20 seconds. \n",
    "def dfs_search(b):\n",
    "    start = state(b, [])\n",
    "    frontier = [start]\n",
    "    while True:\n",
    "        if len(frontier) == 0:\n",
    "            return None\n",
    "        curr = frontier.pop()\n",
    "        if curr.board.is_solved():\n",
    "            return curr\n",
    "        brd = curr.board.board\n",
    "        with_nbrs = []\n",
    "        for row in range(len(brd)):\n",
    "            for col in range(len(brd[row])):\n",
    "                a = pos(row, col)\n",
    "                a_nbrs = curr.board.neighbors(a)\n",
    "                if len(a_nbrs) > 0:\n",
    "                    with_nbrs.append((a,a_nbrs))\n",
    "        for p in with_nbrs:\n",
    "            for b in p[1]:\n",
    "                next_board = curr.board.jump(p[0],b)\n",
    "                next_moves = copy.deepcopy(curr.moves)\n",
    "                next_moves.append((p[0],b))\n",
    "                frontier.append(state(next_board, next_moves))"
   ]
  },
  {
   "cell_type": "code",
   "execution_count": 63,
   "id": "8ef58cdc",
   "metadata": {},
   "outputs": [],
   "source": [
    "# didn't finish in 10 minutes\n",
    "def dfs_search_all(b):\n",
    "    start = state(b, [])\n",
    "    frontier = [start]\n",
    "    solns = []\n",
    "    while True:\n",
    "        if len(frontier) == 0:\n",
    "            return solns\n",
    "        curr = frontier.pop()\n",
    "        if curr.board.is_solved():\n",
    "            solns.append(curr)\n",
    "        brd = curr.board.board\n",
    "        with_nbrs = []\n",
    "        for row in range(len(brd)):\n",
    "            for col in range(len(brd[row])):\n",
    "                a = pos(row, col)\n",
    "                a_nbrs = curr.board.neighbors(a)\n",
    "                if len(a_nbrs) > 0:\n",
    "                    with_nbrs.append((a,a_nbrs))\n",
    "        for p in with_nbrs:\n",
    "            for b in p[1]:\n",
    "                next_board = curr.board.jump(p[0],b)\n",
    "                next_moves = copy.deepcopy(curr.moves)\n",
    "                next_moves.append((p[0],b))\n",
    "                frontier.append(state(next_board, next_moves))"
   ]
  },
  {
   "cell_type": "code",
   "execution_count": 54,
   "id": "82bd27d3",
   "metadata": {},
   "outputs": [],
   "source": [
    "# only gets to depth 7 after 5 minutes\n",
    "def bfs_search(b):\n",
    "    start = state(b, [])\n",
    "    frontier = [start]\n",
    "    depth = 0\n",
    "    dt = time.time()\n",
    "    while True:\n",
    "        if len(frontier) == 0:\n",
    "            return None\n",
    "        curr = frontier.pop(0)\n",
    "        if curr.board.is_solved():\n",
    "            solns.append(curr)\n",
    "        if len(curr.moves) > depth:\n",
    "            depth += 1\n",
    "            print(\"depth:\", depth,time.time()-dt)\n",
    "            dt = time.time()\n",
    "        brd = curr.board.board\n",
    "        with_nbrs = []\n",
    "        for row in range(len(brd)):\n",
    "            for col in range(len(brd[row])):\n",
    "                a = pos(row, col)\n",
    "                a_nbrs = curr.board.neighbors(a)\n",
    "                if len(a_nbrs) > 0:\n",
    "                    with_nbrs.append((a,a_nbrs))\n",
    "        for p in with_nbrs:\n",
    "            for b in p[1]:\n",
    "                next_board = curr.board.jump(p[0],b)\n",
    "                next_moves = copy.copy(curr.moves)\n",
    "                next_moves.append((p[0],b))\n",
    "                frontier.append(state(next_board, next_moves))"
   ]
  },
  {
   "cell_type": "code",
   "execution_count": null,
   "id": "044a0830",
   "metadata": {},
   "outputs": [],
   "source": []
  },
  {
   "cell_type": "code",
   "execution_count": null,
   "id": "210920e1",
   "metadata": {},
   "outputs": [],
   "source": []
  },
  {
   "cell_type": "code",
   "execution_count": null,
   "id": "cd642b3a",
   "metadata": {},
   "outputs": [],
   "source": []
  },
  {
   "cell_type": "code",
   "execution_count": null,
   "id": "5b1adbac",
   "metadata": {},
   "outputs": [],
   "source": []
  },
  {
   "cell_type": "code",
   "execution_count": null,
   "id": "8658b4b1",
   "metadata": {},
   "outputs": [],
   "source": []
  },
  {
   "cell_type": "code",
   "execution_count": null,
   "id": "973e3f35",
   "metadata": {},
   "outputs": [],
   "source": []
  },
  {
   "cell_type": "code",
   "execution_count": null,
   "id": "703b94f7",
   "metadata": {},
   "outputs": [],
   "source": []
  }
 ],
 "metadata": {
  "kernelspec": {
   "display_name": "Python 3 (ipykernel)",
   "language": "python",
   "name": "python3"
  },
  "language_info": {
   "codemirror_mode": {
    "name": "ipython",
    "version": 3
   },
   "file_extension": ".py",
   "mimetype": "text/x-python",
   "name": "python",
   "nbconvert_exporter": "python",
   "pygments_lexer": "ipython3",
   "version": "3.9.7"
  }
 },
 "nbformat": 4,
 "nbformat_minor": 5
}
