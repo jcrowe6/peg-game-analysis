{
 "cells": [
  {
   "cell_type": "code",
   "execution_count": 359,
   "id": "9bf5885c",
   "metadata": {},
   "outputs": [],
   "source": [
    "import numpy as np\n",
    "import copy, time, random"
   ]
  },
  {
   "cell_type": "code",
   "execution_count": 347,
   "id": "c479684c",
   "metadata": {},
   "outputs": [],
   "source": [
    "import matplotlib.pyplot as plt"
   ]
  },
  {
   "cell_type": "markdown",
   "id": "e4afa7ac",
   "metadata": {},
   "source": [
    "## analyzing the cracker barrel peg game\n",
    "\n",
    "Maybe my favorite thing about cracker barrel is the [peg game](https://www.cs.virginia.edu/cs201j/problem-sets/ps4/cbfront.jpg) they put at every table. The challenge is to eliminate the pegs on the board by jumping over an adjacent peg into an empty spot, checkers style, leaving only one peg, and proving that you are, in fact, a genius.\n",
    "\n",
    "I was wondering though, how many ways can you solve this game? Is every solution equally likely? Are there any interesting patterns? Below is my best attempt as illuminating these important questions.\n",
    "\n"
   ]
  },
  {
   "cell_type": "code",
   "execution_count": 480,
   "id": "42c88102",
   "metadata": {},
   "outputs": [],
   "source": [
    "# represents a coordinate on the board by row,column\n",
    "class pos:\n",
    "    def __init__(self, r, c):\n",
    "        self.row = r\n",
    "        self.col = c\n",
    "    def __eq__(self, other):\n",
    "        if isinstance(other, self.__class__):\n",
    "            return (self.row == other.row) and (self.col == other.col)\n",
    "        else:\n",
    "            return False\n",
    "        \n",
    "    def __hash__(self):\n",
    "        return hash((self.row,self.col))\n",
    "    def __str__(self):\n",
    "        return f'({self.row},{self.col})'\n",
    "    def __repr__(self):\n",
    "        return f'({self.row},{self.col})'"
   ]
  },
  {
   "cell_type": "code",
   "execution_count": 481,
   "id": "7c9a388f",
   "metadata": {},
   "outputs": [],
   "source": [
    "# Represents a game board of any number of rows (at cracker barrel - 5)\n",
    "# game board is a triangular list of lists - [[1],[2,3],[4,5,6]...]\n",
    "# Implements useful methods for running simulations - an all_spots() generator, jump(), neighbors(), etc.\n",
    "class board:\n",
    "    def __init__(self, rows):\n",
    "        self.board = []\n",
    "        for i in range(rows):\n",
    "            self.board.append([1]*(i+1))\n",
    "        self.board[0][0] = 0\n",
    "        self.max_moves = len(self.flatten())-2\n",
    "        self.win_count = 0\n",
    "        \n",
    "        # dict of (initial empty position : (dict of (final peg position) : count of paths to that final peg given the starting pos)\n",
    "        self.init_to_final_cts = {} \n",
    "        \n",
    "    def __str__(self):\n",
    "        s = ''\n",
    "        for row in self.board:\n",
    "            s += str(row) + '\\n'\n",
    "        return s\n",
    "    \n",
    "    # generator, yields all positions on the board from top to bottom, left to right\n",
    "    def all_spots(self):\n",
    "        for r in range(len(self.board)):\n",
    "            for c in range(r+1):\n",
    "                yield pos(r,c)\n",
    "    \n",
    "    # returns tuple of the board, flattened to a 1d array\n",
    "    def flatten(self):\n",
    "        return tuple([self.board[p.row][p.col] for p in self.all_spots()])\n",
    "    \n",
    "    # resets the board with full pegs, and an empty spot at the given pos\n",
    "    def start(self, init_pos):\n",
    "        for p in self.all_spots():\n",
    "            self.board[p.row][p.col] = 1\n",
    "        self.board[init_pos.row][init_pos.col] = 0\n",
    "    \n",
    "    # gets position of spot from jumping a over b\n",
    "    def get_over_pos(self, a, b):\n",
    "        c = pos(None,None)\n",
    "        c.row = a.row if a.row == b.row else (b.row+1 if b.row > a.row else b.row-1)\n",
    "        if c.row < 0 or c.row >= len(self.board):\n",
    "            return None\n",
    "        # 3 cases: same row,  a above b, a below b\n",
    "        if a.row == b.row:\n",
    "            c.col = b.col+1 if b.col > a.col else b.col - 1\n",
    "        elif a.row < b.row:\n",
    "            if a.col == b.col:\n",
    "                c.col = b.col\n",
    "            elif b.col == a.col+1:\n",
    "                c.col = b.col+1\n",
    "            else:\n",
    "                return None\n",
    "        elif a.row > b.row:\n",
    "            if a.col == b.col:\n",
    "                c.col = b.col\n",
    "            elif b.col == a.col-1:\n",
    "                c.col = b.col-1\n",
    "            else:\n",
    "                return None\n",
    "        if c.col < 0 or c.col > c.row:\n",
    "            return None\n",
    "        return c\n",
    "        \n",
    "    # jumps piece at a over piece at b, removing piece at b. returns new position of piece a\n",
    "    def jump(self, a, b):\n",
    "        c = self.get_over_pos(a,b)\n",
    "        if c == None:\n",
    "            return None\n",
    "        elif self.board[c.row][c.col] != 0 or self.board[a.row][a.col] != 1 or self.board[b.row][b.col] != 1:\n",
    "            return None\n",
    "        else:\n",
    "            # new_b = copy.deepcopy(self) #slow slow slow!!!\n",
    "            self.board[c.row][c.col] = 1\n",
    "            self.board[a.row][a.col] = 0\n",
    "            self.board[b.row][b.col] = 0\n",
    "            return c\n",
    "    \n",
    "    # undoes a jump\n",
    "    def unjump(self, a, b, c):\n",
    "        self.board[c.row][c.col] = 0\n",
    "        self.board[a.row][a.col] = 1\n",
    "        self.board[b.row][b.col] = 1\n",
    "        \n",
    "    # checks that a jump won't send piece out of bounds, and that the pieces do exist at the needed pos's\n",
    "    def can_jump(self, a, b):\n",
    "        c = self.get_over_pos(a,b)\n",
    "        if c == None:\n",
    "            return False\n",
    "        elif self.board[c.row][c.col] != 0 or self.board[a.row][a.col] != 1 or self.board[b.row][b.col] != 1:\n",
    "            return False\n",
    "        else:\n",
    "            return True\n",
    "    \n",
    "    # returns all neighbors of piece that it can jump over \n",
    "    def neighbors(self, a):\n",
    "        nbrs = [pos(a.row, a.col-1),pos(a.row, a.col+1),pos(a.row-1, a.col),\n",
    "                pos(a.row-1, a.col-1),pos(a.row+1, a.col),pos(a.row+1, a.col+1)]\n",
    "        return list(n for n in nbrs if self.can_jump(a,n))\n",
    "    \n",
    "    # win if there is exactly one piece\n",
    "    def is_solved(self):\n",
    "        return sum(self.flatten()) == 1\n",
    "        \n",
    "            "
   ]
  },
  {
   "cell_type": "code",
   "execution_count": 483,
   "id": "af94160e",
   "metadata": {},
   "outputs": [],
   "source": [
    "# Given a number of moves d, sets up a game board already at each winning position, and simulates all possible chains of\n",
    "# *reverse moves* up to length d. (a reverse move is just doing an unjump()). that is, this class generates all game states \n",
    "# that are d moves from a winning state. once it finds any of these states, it adds/updates a dict counting the number of chains\n",
    "# that generated a given d-moves-to-win state.\n",
    "# then, a forward search from a starting position needs only to search 13-d moves forward, then check if the state it \n",
    "# reached is one that can reach a winning position (and it will immediately also have the *number* of paths to a winning state)\n",
    "class reverse_stats(board):\n",
    "    def __init__(self, rows, d):\n",
    "        super().__init__(rows)\n",
    "        self.clear()\n",
    "            \n",
    "        # keys - flat states that are depth moves from a solve state, \n",
    "        # vals - the count of paths to a solve state\n",
    "        self.reverse_state_ct = {} \n",
    "        \n",
    "        # key - same states as above\n",
    "        # val - dict of various final positions : count. needed to carry that information up to board class\n",
    "        self.reverse_finaltoct = {}\n",
    "        self.max_depth = d\n",
    "        \n",
    "    def clear(self):\n",
    "        for p in self.all_spots():\n",
    "            self.board[p.row][p.col] = 0\n",
    "            \n",
    "            \n",
    "    def not_oob(self, p):\n",
    "        if p.row < 0 or p.col < 0:\n",
    "            return False\n",
    "        if p.row >= len(self.board) or p.col > p.row:\n",
    "            return False\n",
    "        return True\n",
    "    \n",
    "    def can_unjump(self, c, a, b):\n",
    "        if self.not_oob(c) and self.not_oob(a) and self.not_oob(b):\n",
    "            if self.board[c.row][c.col] == 1 and self.board[a.row][a.col] == 0 and self.board[b.row][b.col] == 0:\n",
    "                return True\n",
    "        return False\n",
    "    \n",
    "    def all_unjumps(self):\n",
    "        for p in self.all_spots():\n",
    "            for jump in [(p, pos(p.row, p.col-1), pos(p.row, p.col-2)),\n",
    "                        (p, pos(p.row, p.col+1), pos(p.row, p.col+2)),\n",
    "                        (p, pos(p.row-1, p.col), pos(p.row-2, p.col)),\n",
    "                        (p, pos(p.row-1, p.col-1), pos(p.row-2, p.col-2)),\n",
    "                        (p, pos(p.row+1, p.col), pos(p.row+2, p.col)),\n",
    "                        (p, pos(p.row+1, p.col+1), pos(p.row+2, p.col+2))]:\n",
    "                if self.can_unjump(jump[0],jump[1],jump[2]):\n",
    "                    yield jump\n",
    "    \n",
    "    # begins recursive DFS from all positions that leave just one piece\n",
    "    def fill_allnormalwins(self):\n",
    "        for p in self.all_spots():\n",
    "            self.board[p.row][p.col] = 1\n",
    "            self.fill_reverse(0, p)\n",
    "            self.clear()\n",
    "            \n",
    "    # recursive DFS that terminates at the given depth and updates the state dict with each state \n",
    "    # takes all possible unjumps()\n",
    "    def fill_reverse(self, depth, finalpos):\n",
    "        if depth == self.max_depth:\n",
    "            flat = self.flatten()\n",
    "            if flat in self.reverse_state_ct:\n",
    "                self.reverse_state_ct[flat] += 1\n",
    "            else:\n",
    "                self.reverse_state_ct[flat] = 1\n",
    "                self.reverse_finaltoct[flat] = {}\n",
    "                \n",
    "            if finalpos in self.reverse_finaltoct[flat]:\n",
    "                self.reverse_finaltoct[flat][finalpos] += 1\n",
    "            else:\n",
    "                self.reverse_finaltoct[flat][finalpos] = 1\n",
    "                \n",
    "            return\n",
    "        \n",
    "        for jump in self.all_unjumps():\n",
    "            self.unjump(jump[2],jump[1],jump[0]) # confusing order, I know. but it's after midnight\n",
    "            self.fill_reverse(depth+1, finalpos)\n",
    "            self.jump(jump[2],jump[1])\n",
    "            \n",
    "        \n",
    "        "
   ]
  },
  {
   "cell_type": "code",
   "execution_count": 484,
   "id": "8eab83a0",
   "metadata": {},
   "outputs": [
    {
     "name": "stdout",
     "output_type": "stream",
     "text": [
      "generated all reverse paths 28.123485565185547 sec.\n"
     ]
    }
   ],
   "source": [
    "rs = reverse_stats(5, 7) \n",
    "t = time.time()\n",
    "rs.fill_allnormalwins() # generates all states on the 5-board that are 7 moves from a win\n",
    "print(\"generated all reverse paths\", time.time()-t, \"sec.\")"
   ]
  },
  {
   "cell_type": "code",
   "execution_count": 485,
   "id": "5d67c2e3",
   "metadata": {},
   "outputs": [
    {
     "data": {
      "text/plain": [
       "2964"
      ]
     },
     "execution_count": 485,
     "metadata": {},
     "output_type": "execute_result"
    }
   ],
   "source": [
    "# the number of games that are 7 moves from a win is...\n",
    "len(rs.reverse_state_ct)"
   ]
  },
  {
   "cell_type": "code",
   "execution_count": 486,
   "id": "7ddbe90f",
   "metadata": {},
   "outputs": [],
   "source": [
    "# starts a forward search from all starting positions\n",
    "def forward_search_all(board):\n",
    "    for p in board.all_spots():\n",
    "        board.start(p)\n",
    "        forward_search(board, 0, p)\n",
    "\n",
    "# recursive DFS to a depth of max_moves minus the reverse_stats depth. once this depth is reached, the state is checked\n",
    "# on the reverse_stats dict to see if it can lead to a win, and if so, increases the internal win_count by that number of paths\n",
    "def forward_search(board, depth, init_pos):\n",
    "    if depth == board.max_moves - rs.max_depth:\n",
    "        f = board.flatten()\n",
    "        if f in rs.reverse_state_ct:\n",
    "            board.win_count += rs.reverse_state_ct[f]\n",
    "            for final in rs.reverse_finaltoct[f]:\n",
    "                if init_pos not in board.init_to_final_cts:\n",
    "                    board.init_to_final_cts[init_pos] = {}\n",
    "                if final in board.init_to_final_cts[init_pos]:\n",
    "                    board.init_to_final_cts[init_pos][final] += rs.reverse_finaltoct[f][final]\n",
    "                else:\n",
    "                    board.init_to_final_cts[init_pos][final] = rs.reverse_finaltoct[f][final]\n",
    "        return\n",
    "    with_nbrs = [(a, board.neighbors(a)) for a in board.all_spots() if len(board.neighbors(a)) > 0]\n",
    "    for p in with_nbrs:\n",
    "        for b in p[1]:\n",
    "            c = board.jump(p[0],b)\n",
    "            forward_search(board, depth+1, init_pos)\n",
    "            board.unjump(p[0],b,c)\n"
   ]
  },
  {
   "cell_type": "code",
   "execution_count": 487,
   "id": "d196ea7e",
   "metadata": {},
   "outputs": [
    {
     "name": "stdout",
     "output_type": "stream",
     "text": [
      "found all forward states in 7.845417737960815 sec\n"
     ]
    }
   ],
   "source": [
    "b = board(5)\n",
    "t=time.time()\n",
    "forward_search_all(b) # simulates all 6-move games and updates win_count if state can lead to a win\n",
    "print(\"found all forward states in\", time.time()-t, \"sec\")"
   ]
  },
  {
   "cell_type": "code",
   "execution_count": 488,
   "id": "e7b302e6",
   "metadata": {},
   "outputs": [
    {
     "data": {
      "text/plain": [
       "438984"
      ]
     },
     "execution_count": 488,
     "metadata": {},
     "output_type": "execute_result"
    }
   ],
   "source": [
    "# total number of ways to win the game\n",
    "b.win_count"
   ]
  },
  {
   "cell_type": "code",
   "execution_count": 489,
   "id": "a8053679",
   "metadata": {},
   "outputs": [
    {
     "data": {
      "text/plain": [
       "{(0,0): {(0,0): 6816, (3,0): 3408, (4,2): 16128, (3,3): 3408},\n",
       " (1,0): {(2,2): 8064, (4,0): 3408, (4,3): 2688, (1,0): 720},\n",
       " (1,1): {(2,0): 8064, (1,1): 720, (4,1): 2688, (4,4): 3408},\n",
       " (2,0): {(2,0): 51452, (4,1): 8064, (4,4): 16128, (1,1): 8064, (3,2): 1550},\n",
       " (2,1): {(4,2): 1550},\n",
       " (2,2): {(2,2): 51452, (4,0): 16128, (4,3): 8064, (1,0): 8064, (3,1): 1550},\n",
       " (3,0): {(0,0): 3408, (3,0): 720, (4,2): 8064, (3,3): 2688},\n",
       " (3,1): {(2,2): 1550},\n",
       " (3,2): {(2,0): 1550},\n",
       " (3,3): {(0,0): 3408, (3,0): 2688, (4,2): 8064, (3,3): 720},\n",
       " (4,0): {(2,2): 16128, (4,0): 6816, (4,3): 3408, (1,0): 3408},\n",
       " (4,1): {(2,0): 8064, (1,1): 2688, (4,1): 720, (4,4): 3408},\n",
       " (4,2): {(0,0): 16128, (3,0): 8064, (4,2): 51452, (3,3): 8064, (2,1): 1550},\n",
       " (4,3): {(2,2): 8064, (1,0): 2688, (4,0): 3408, (4,3): 720},\n",
       " (4,4): {(2,0): 16128, (1,1): 3408, (4,1): 3408, (4,4): 6816}}"
      ]
     },
     "execution_count": 489,
     "metadata": {},
     "output_type": "execute_result"
    }
   ],
   "source": [
    "# table of initial start location and final peg location with counts of paths between them\n",
    "b.init_to_final_cts"
   ]
  },
  {
   "cell_type": "markdown",
   "id": "9f35ba39",
   "metadata": {},
   "source": [
    "It's interesting that for any starting position, there's a specific subset of locations that are possible to end the game on"
   ]
  },
  {
   "cell_type": "code",
   "execution_count": 490,
   "id": "d8f45314",
   "metadata": {},
   "outputs": [
    {
     "data": {
      "text/plain": [
       "{(0,0): 6.779290361379913,\n",
       " (1,0): 3.3896451806899566,\n",
       " (1,1): 3.389645180689956,\n",
       " (2,0): 19.421664570918303,\n",
       " (2,1): 0.3530880396552038,\n",
       " (2,2): 19.421664570918303,\n",
       " (3,0): 3.3896451806899566,\n",
       " (3,1): 0.3530880396552038,\n",
       " (3,2): 0.3530880396552038,\n",
       " (3,3): 3.3896451806899566,\n",
       " (4,0): 6.779290361379914,\n",
       " (4,1): 3.389645180689956,\n",
       " (4,2): 19.421664570918303,\n",
       " (4,3): 3.3896451806899566,\n",
       " (4,4): 6.779290361379914}"
      ]
     },
     "execution_count": 490,
     "metadata": {},
     "output_type": "execute_result"
    }
   ],
   "source": [
    "inits_to_percent = {k:0 for k in b.init_to_final_cts}\n",
    "for i in inits_to_percent:\n",
    "    for f in b.init_to_final_cts[i]:\n",
    "        inits_to_percent[i]+=(b.init_to_final_cts[i][f]/(b.win_count/100))\n",
    "        \n",
    "# starting location to percentage of possible wins reachable from there \n",
    "inits_to_percent"
   ]
  },
  {
   "cell_type": "markdown",
   "id": "74411250",
   "metadata": {},
   "source": [
    "Here we can see the largest proportion of possible wins begin with the peice in one of the side middle positions: (2,0), (2,2), or (4,2) - each of which lead to wins that represent 19.4% of all possible wins."
   ]
  },
  {
   "cell_type": "code",
   "execution_count": 491,
   "id": "ce294041",
   "metadata": {},
   "outputs": [],
   "source": [
    "# using pyplot to visually represent at some of this data\n",
    "def show_state(board):\n",
    "    circles = []\n",
    "    for i in range(len(board)):\n",
    "        for j in range(i+1):\n",
    "            circle = plt.Circle((5+(j*1.6)-(i*0.75), 8-(i*1.5)), 0.4, color=(0,0,0,1), fill=(board[i][j]==1))\n",
    "            circles.append(circle)\n",
    "\n",
    "\n",
    "    fig, ax = plt.subplots()\n",
    "    ax.set_xlim((0, 10))\n",
    "    ax.set_ylim((0, 10))\n",
    "    plt.gca().set_aspect('equal')\n",
    "    for circle in circles:\n",
    "        ax.add_patch(circle)\n",
    "\n",
    "def show_flat(flattened):\n",
    "    brd = board(5)\n",
    "    i = 0\n",
    "    for r in range(5):\n",
    "        for c in range(r+1):\n",
    "            brd.board[r][c] = flattened[i]\n",
    "            i += 1\n",
    "    show_state(brd.board)\n",
    "\n",
    "def starttofinal_heatmap(pos_to_ct_dict, start_pos=False):\n",
    "    total = sum(list(pos_to_ct_dict.values()))\n",
    "    circles = []\n",
    "    for i in range(5):\n",
    "        for j in range(i+1):\n",
    "            if pos(i,j) in pos_to_ct_dict:\n",
    "                circle = plt.Circle((5+(j*1.6)-(i*0.75), 8-(i*1.5)), 0.4, \n",
    "                                color=(1,0,0,(pos_to_ct_dict[pos(i,j)]/total)), \n",
    "                                fill=True)\n",
    "                circles.append(circle)\n",
    "            else:\n",
    "                circle = plt.Circle((5+(j*1.6)-(i*0.75), 8-(i*1.5)), 0.4, \n",
    "                                color=(.2,.2,.2), \n",
    "                                fill=False)\n",
    "                circles.append(circle)\n",
    "            if start_pos != False and start_pos.row == i and start_pos.col == j: # add extra green ring to show start position\n",
    "                circle = plt.Circle((5+(j*1.6)-(i*0.75), 8-(i*1.5)), 0.4, \n",
    "                                color=(0,1,0,1), fill=False)\n",
    "                circles.append(circle)\n",
    "\n",
    "    fig, ax = plt.subplots()\n",
    "    ax.set_xlim((0, 10))\n",
    "    ax.set_ylim((0, 10))\n",
    "    plt.gca().set_aspect('equal')\n",
    "    for circle in circles:\n",
    "        ax.add_patch(circle)\n",
    "    "
   ]
  },
  {
   "cell_type": "code",
   "execution_count": 492,
   "id": "96381786",
   "metadata": {},
   "outputs": [
    {
     "data": {
      "image/png": "[encoded data removed]",
      "text/plain": [
       "<Figure size 432x288 with 1 Axes>"
      ]
     },
     "metadata": {
      "needs_background": "light"
     },
     "output_type": "display_data"
    }
   ],
   "source": [
    "# the starting board\n",
    "show_state(board(5).board)"
   ]
  },
  {
   "cell_type": "code",
   "execution_count": 493,
   "id": "f6305842",
   "metadata": {},
   "outputs": [
    {
     "data": {
      "image/png": "[encoded data removed]",
      "text/plain": [
       "<Figure size 432x288 with 1 Axes>"
      ]
     },
     "metadata": {
      "needs_background": "light"
     },
     "output_type": "display_data"
    }
   ],
   "source": [
    "# a random board that is 7 moves from a win\n",
    "show_flat(random.choice(list(rs.reverse_state_ct.keys())))"
   ]
  },
  {
   "cell_type": "code",
   "execution_count": 494,
   "id": "8b7590de",
   "metadata": {},
   "outputs": [
    {
     "data": {
      "image/png": "[encoded data removed]",
      "text/plain": [
       "<Figure size 432x288 with 1 Axes>"
      ]
     },
     "metadata": {
      "needs_background": "light"
     },
     "output_type": "display_data"
    }
   ],
   "source": [
    "# starting position in green, and all possible ending positions in red, where more intense == larger proportion \n",
    "# of games ending at that spot\n",
    "init_pos = pos(0,0)\n",
    "starttofinal_heatmap(b.init_to_final_cts[init_pos], start_pos=init_pos)"
   ]
  },
  {
   "cell_type": "code",
   "execution_count": 495,
   "id": "e926ae17",
   "metadata": {},
   "outputs": [
    {
     "data": {
      "image/png": "[encoded data removed]",
      "text/plain": [
       "<Figure size 432x288 with 1 Axes>"
      ]
     },
     "metadata": {
      "needs_background": "light"
     },
     "output_type": "display_data"
    }
   ],
   "source": [
    "# marginal sum of ending position counts\n",
    "final_totals = {}\n",
    "for i in b.init_to_final_cts:\n",
    "    for f in b.init_to_final_cts[i]:\n",
    "        if f in final_totals:\n",
    "            final_totals[f] += b.init_to_final_cts[i][f]\n",
    "        else:\n",
    "            final_totals[f] = b.init_to_final_cts[i][f]\n",
    "starttofinal_heatmap(final_totals)\n",
    "# we can see the side middle spots are also the most common ending spots,\n",
    "# and that the center spots are exceedingly rare ones to end on."
   ]
  },
  {
   "cell_type": "markdown",
   "id": "37a907a2",
   "metadata": {},
   "source": [
    "That's as far as I've investigated for now. My key takeaways from this- \n",
    "\n",
    "1: bidirectional search is the most computationally efficient way to search this problem - since the search tree from either side gets very wide, and have many many paths that *almost* reach a solution, it's very inefficient to enumerate all of these. Reducing the forward search problem to a much lower depth by searching backwards from all the solution states to a certain depth was extremely key - it was an order of magnitude speedup compared to my 2nd idea below.\n",
    "\n",
    "2: I'm surprised by the results - especially that it's not a uniform distrobution of solution states. In the future I'd like to see what the heatmap above looks like when you scale up the size of the board. Though, I have a feeling that searching for something like n=100 I'd need to switch to a more stochastic method.\n",
    "\n",
    "That's all for now, thanks for reading!"
   ]
  },
  {
   "cell_type": "markdown",
   "id": "c284a266",
   "metadata": {},
   "source": [
    "Jeremiah Crowell"
   ]
  },
  {
   "cell_type": "markdown",
   "id": "86e4c0b6",
   "metadata": {},
   "source": [
    "---\n",
    "Everything below here is failed attempts, just keeping for the sake of it.\n",
    "\n",
    "This was actually my second idea - just operate on the single board, recursively make all moves possible, and at each step, update a dict of (board state)->(count of paths to it) in the board class, resulting in a full count of all states. Then, I could look up each possible end state and read off the count from the dict. This computed all of the states from one starting position in 265 seconds. \n",
    "I thought this was my first success, and it was interesting to see that there are only 4 reachable end states from the starting position I looked at.\n",
    "\n",
    "It was around this time that I looked online to see if others had worked on this problem. The author of [this blog](https://grover.news/2016/03/15/cracker-barrel-conundrum/) analyzed it for all starting positions, and various other win conditions other that \"just leave 1\" - so I figured I could do better. Credit to anitasv for commenting their implementation of a two-sided search which helped me greatly."
   ]
  },
  {
   "cell_type": "code",
   "execution_count": 497,
   "id": "10325607",
   "metadata": {},
   "outputs": [
    {
     "ename": "AttributeError",
     "evalue": "'board' object has no attribute 'state_count'",
     "output_type": "error",
     "traceback": [
      "\u001b[1;31m---------------------------------------------------------------------------\u001b[0m",
      "\u001b[1;31mAttributeError\u001b[0m                            Traceback (most recent call last)",
      "\u001b[1;32m~\\AppData\\Local\\Temp/ipykernel_21072/3527909065.py\u001b[0m in \u001b[0;36m<module>\u001b[1;34m\u001b[0m\n\u001b[0;32m     18\u001b[0m \u001b[1;33m\u001b[0m\u001b[0m\n\u001b[0;32m     19\u001b[0m \u001b[0mt\u001b[0m \u001b[1;33m=\u001b[0m \u001b[0mtime\u001b[0m\u001b[1;33m.\u001b[0m\u001b[0mtime\u001b[0m\u001b[1;33m(\u001b[0m\u001b[1;33m)\u001b[0m\u001b[1;33m\u001b[0m\u001b[1;33m\u001b[0m\u001b[0m\n\u001b[1;32m---> 20\u001b[1;33m \u001b[0msearch\u001b[0m\u001b[1;33m(\u001b[0m\u001b[0mb\u001b[0m\u001b[1;33m)\u001b[0m\u001b[1;33m\u001b[0m\u001b[1;33m\u001b[0m\u001b[0m\n\u001b[0m\u001b[0;32m     21\u001b[0m \u001b[0mprint\u001b[0m\u001b[1;33m(\u001b[0m\u001b[1;34m\"done in\"\u001b[0m\u001b[1;33m,\u001b[0m \u001b[0mtime\u001b[0m\u001b[1;33m.\u001b[0m\u001b[0mtime\u001b[0m\u001b[1;33m(\u001b[0m\u001b[1;33m)\u001b[0m\u001b[1;33m-\u001b[0m\u001b[0mt\u001b[0m\u001b[1;33m)\u001b[0m\u001b[1;33m\u001b[0m\u001b[1;33m\u001b[0m\u001b[0m\n\u001b[0;32m     22\u001b[0m \u001b[1;31m# done in 265.4284505844116\u001b[0m\u001b[1;33m\u001b[0m\u001b[1;33m\u001b[0m\u001b[0m\n",
      "\u001b[1;32m~\\AppData\\Local\\Temp/ipykernel_21072/3527909065.py\u001b[0m in \u001b[0;36msearch\u001b[1;34m(board)\u001b[0m\n\u001b[0;32m      2\u001b[0m \u001b[1;32mdef\u001b[0m \u001b[0msearch\u001b[0m\u001b[1;33m(\u001b[0m\u001b[0mboard\u001b[0m\u001b[1;33m)\u001b[0m\u001b[1;33m:\u001b[0m\u001b[1;33m\u001b[0m\u001b[1;33m\u001b[0m\u001b[0m\n\u001b[0;32m      3\u001b[0m     \u001b[0mstate\u001b[0m \u001b[1;33m=\u001b[0m \u001b[0mtuple\u001b[0m\u001b[1;33m(\u001b[0m\u001b[0mboard\u001b[0m\u001b[1;33m.\u001b[0m\u001b[0mflatten\u001b[0m\u001b[1;33m(\u001b[0m\u001b[1;33m)\u001b[0m\u001b[1;33m)\u001b[0m \u001b[1;31m# whatever state we're at, increase the amount of paths that reach it by 1\u001b[0m\u001b[1;33m\u001b[0m\u001b[1;33m\u001b[0m\u001b[0m\n\u001b[1;32m----> 4\u001b[1;33m     \u001b[1;32mif\u001b[0m \u001b[0mstate\u001b[0m \u001b[1;32min\u001b[0m \u001b[0mboard\u001b[0m\u001b[1;33m.\u001b[0m\u001b[0mstate_count\u001b[0m\u001b[1;33m:\u001b[0m\u001b[1;33m\u001b[0m\u001b[1;33m\u001b[0m\u001b[0m\n\u001b[0m\u001b[0;32m      5\u001b[0m         \u001b[0mboard\u001b[0m\u001b[1;33m.\u001b[0m\u001b[0mstate_count\u001b[0m\u001b[1;33m[\u001b[0m\u001b[0mstate\u001b[0m\u001b[1;33m]\u001b[0m \u001b[1;33m+=\u001b[0m \u001b[1;36m1\u001b[0m\u001b[1;33m\u001b[0m\u001b[1;33m\u001b[0m\u001b[0m\n\u001b[0;32m      6\u001b[0m     \u001b[1;32melse\u001b[0m\u001b[1;33m:\u001b[0m\u001b[1;33m\u001b[0m\u001b[1;33m\u001b[0m\u001b[0m\n",
      "\u001b[1;31mAttributeError\u001b[0m: 'board' object has no attribute 'state_count'"
     ]
    }
   ],
   "source": [
    "# recursively takes moves and fills in board's state counts\n",
    "def search(board):\n",
    "    state = tuple(board.flatten()) # whatever state we're at, increase the amount of paths that reach it by 1\n",
    "    if state in board.state_count:\n",
    "        board.state_count[state] += 1\n",
    "    else:\n",
    "        board.state_count[state] = 1\n",
    "    \n",
    "    # then find all possible moves, and recurse into them.\n",
    "    with_nbrs = [(a, board.neighbors(a)) for a in board.all_spots() if len(board.neighbors(a)) > 0]\n",
    "    for p in with_nbrs:\n",
    "        for b in p[1]:\n",
    "            c = board.jump(p[0],b)\n",
    "            search(board)\n",
    "            board.unjump(p[0],b,c)\n",
    "            \n",
    "b = board(5)\n",
    "\n",
    "t = time.time()\n",
    "search(b)\n",
    "print(\"done in\", time.time()-t) \n",
    "# done in 265.4284505844116"
   ]
  },
  {
   "cell_type": "code",
   "execution_count": 152,
   "id": "10a860f3",
   "metadata": {},
   "outputs": [
    {
     "name": "stdout",
     "output_type": "stream",
     "text": [
      "(1, 0, 0, 0, 0, 0, 0, 0, 0, 0, 0, 0, 0, 0, 0) 6816\n",
      "(0, 1, 0, 0, 0, 0, 0, 0, 0, 0, 0, 0, 0, 0, 0) 0\n",
      "(0, 0, 1, 0, 0, 0, 0, 0, 0, 0, 0, 0, 0, 0, 0) 0\n",
      "(0, 0, 0, 1, 0, 0, 0, 0, 0, 0, 0, 0, 0, 0, 0) 0\n",
      "(0, 0, 0, 0, 1, 0, 0, 0, 0, 0, 0, 0, 0, 0, 0) 0\n",
      "(0, 0, 0, 0, 0, 1, 0, 0, 0, 0, 0, 0, 0, 0, 0) 0\n",
      "(0, 0, 0, 0, 0, 0, 1, 0, 0, 0, 0, 0, 0, 0, 0) 3408\n",
      "(0, 0, 0, 0, 0, 0, 0, 1, 0, 0, 0, 0, 0, 0, 0) 0\n",
      "(0, 0, 0, 0, 0, 0, 0, 0, 1, 0, 0, 0, 0, 0, 0) 0\n",
      "(0, 0, 0, 0, 0, 0, 0, 0, 0, 1, 0, 0, 0, 0, 0) 3408\n",
      "(0, 0, 0, 0, 0, 0, 0, 0, 0, 0, 1, 0, 0, 0, 0) 0\n",
      "(0, 0, 0, 0, 0, 0, 0, 0, 0, 0, 0, 1, 0, 0, 0) 0\n",
      "(0, 0, 0, 0, 0, 0, 0, 0, 0, 0, 0, 0, 1, 0, 0) 16128\n",
      "(0, 0, 0, 0, 0, 0, 0, 0, 0, 0, 0, 0, 0, 1, 0) 0\n",
      "(0, 0, 0, 0, 0, 0, 0, 0, 0, 0, 0, 0, 0, 0, 1) 0\n"
     ]
    }
   ],
   "source": [
    "bex = board(5)\n",
    "for p in bex.all_spots():\n",
    "    bex.board[p.row][p.col] = 0\n",
    "for p in bex.all_spots():\n",
    "    bex.board[p.row][p.col] = 1\n",
    "    f = tuple(bex.flatten())\n",
    "    print(f, b.state_count[f] if f in b.state_count else 0)\n",
    "    bex.board[p.row][p.col] = 0\n"
   ]
  },
  {
   "cell_type": "markdown",
   "id": "a9041746",
   "metadata": {},
   "source": [
    "```\n",
    "(1, 0, 0, 0, 0, 0, 0, 0, 0, 0, 0, 0, 0, 0, 0) 6816\n",
    "(0, 1, 0, 0, 0, 0, 0, 0, 0, 0, 0, 0, 0, 0, 0) 0\n",
    "(0, 0, 1, 0, 0, 0, 0, 0, 0, 0, 0, 0, 0, 0, 0) 0\n",
    "(0, 0, 0, 1, 0, 0, 0, 0, 0, 0, 0, 0, 0, 0, 0) 0\n",
    "(0, 0, 0, 0, 1, 0, 0, 0, 0, 0, 0, 0, 0, 0, 0) 0\n",
    "(0, 0, 0, 0, 0, 1, 0, 0, 0, 0, 0, 0, 0, 0, 0) 0\n",
    "(0, 0, 0, 0, 0, 0, 1, 0, 0, 0, 0, 0, 0, 0, 0) 3408\n",
    "(0, 0, 0, 0, 0, 0, 0, 1, 0, 0, 0, 0, 0, 0, 0) 0\n",
    "(0, 0, 0, 0, 0, 0, 0, 0, 1, 0, 0, 0, 0, 0, 0) 0\n",
    "(0, 0, 0, 0, 0, 0, 0, 0, 0, 1, 0, 0, 0, 0, 0) 3408\n",
    "(0, 0, 0, 0, 0, 0, 0, 0, 0, 0, 1, 0, 0, 0, 0) 0\n",
    "(0, 0, 0, 0, 0, 0, 0, 0, 0, 0, 0, 1, 0, 0, 0) 0\n",
    "(0, 0, 0, 0, 0, 0, 0, 0, 0, 0, 0, 0, 1, 0, 0) 16128\n",
    "(0, 0, 0, 0, 0, 0, 0, 0, 0, 0, 0, 0, 0, 1, 0) 0\n",
    "(0, 0, 0, 0, 0, 0, 0, 0, 0, 0, 0, 0, 0, 0, 1) 0\n",
    "```"
   ]
  },
  {
   "cell_type": "markdown",
   "id": "8be4b61a",
   "metadata": {},
   "source": [
    "---\n",
    "The following is the work from my first attempt. Originally I thought of a search state being a unique board object/move list pair. Each call to .jump() would copy and return the new board state. \n",
    "DFS with this model returned the first solution it found in about 20 seconds. BFS only reached a depth of 7 moves in 5 minutes. Copying the entire board every move is way too slow to analyze all the game states quickly."
   ]
  },
  {
   "cell_type": "code",
   "execution_count": 61,
   "id": "e9ff08f1",
   "metadata": {},
   "outputs": [],
   "source": [
    "# state in the search space\n",
    "# copying board for each state searched is slowwww\n",
    "class state:\n",
    "    def __init__(self, b, m):\n",
    "        self.board = b # board state\n",
    "        self.moves = m # moves leading to state, list of tuples of positions in form of (moved, over)\n",
    "    "
   ]
  },
  {
   "cell_type": "code",
   "execution_count": 62,
   "id": "049606c4",
   "metadata": {},
   "outputs": [],
   "source": [
    "# finds *A* solution in about 20 seconds. \n",
    "def dfs_search(b):\n",
    "    start = state(b, [])\n",
    "    frontier = [start]\n",
    "    while True:\n",
    "        if len(frontier) == 0:\n",
    "            return None\n",
    "        curr = frontier.pop()\n",
    "        if curr.board.is_solved():\n",
    "            return curr\n",
    "        brd = curr.board.board\n",
    "        with_nbrs = []\n",
    "        for row in range(len(brd)):\n",
    "            for col in range(len(brd[row])):\n",
    "                a = pos(row, col)\n",
    "                a_nbrs = curr.board.neighbors(a)\n",
    "                if len(a_nbrs) > 0:\n",
    "                    with_nbrs.append((a,a_nbrs))\n",
    "        for p in with_nbrs:\n",
    "            for b in p[1]:\n",
    "                next_board = curr.board.jump(p[0],b)\n",
    "                next_moves = copy.deepcopy(curr.moves)\n",
    "                next_moves.append((p[0],b))\n",
    "                frontier.append(state(next_board, next_moves))"
   ]
  },
  {
   "cell_type": "code",
   "execution_count": 63,
   "id": "922238b1",
   "metadata": {},
   "outputs": [],
   "source": [
    "# didn't finish in 10 minutes\n",
    "def dfs_search_all(b):\n",
    "    start = state(b, [])\n",
    "    frontier = [start]\n",
    "    solns = []\n",
    "    while True:\n",
    "        if len(frontier) == 0:\n",
    "            return solns\n",
    "        curr = frontier.pop()\n",
    "        if curr.board.is_solved():\n",
    "            solns.append(curr)\n",
    "        brd = curr.board.board\n",
    "        with_nbrs = []\n",
    "        for row in range(len(brd)):\n",
    "            for col in range(len(brd[row])):\n",
    "                a = pos(row, col)\n",
    "                a_nbrs = curr.board.neighbors(a)\n",
    "                if len(a_nbrs) > 0:\n",
    "                    with_nbrs.append((a,a_nbrs))\n",
    "        for p in with_nbrs:\n",
    "            for b in p[1]:\n",
    "                next_board = curr.board.jump(p[0],b)\n",
    "                next_moves = copy.deepcopy(curr.moves)\n",
    "                next_moves.append((p[0],b))\n",
    "                frontier.append(state(next_board, next_moves))"
   ]
  },
  {
   "cell_type": "code",
   "execution_count": 54,
   "id": "81d049b5",
   "metadata": {},
   "outputs": [],
   "source": [
    "# only gets to depth 7 after 5 minutes\n",
    "def bfs_search(b):\n",
    "    start = state(b, [])\n",
    "    frontier = [start]\n",
    "    depth = 0\n",
    "    dt = time.time()\n",
    "    while True:\n",
    "        if len(frontier) == 0:\n",
    "            return None\n",
    "        curr = frontier.pop(0)\n",
    "        if curr.board.is_solved():\n",
    "            solns.append(curr)\n",
    "        if len(curr.moves) > depth:\n",
    "            depth += 1\n",
    "            print(\"depth:\", depth,time.time()-dt)\n",
    "            dt = time.time()\n",
    "        brd = curr.board.board\n",
    "        with_nbrs = []\n",
    "        for row in range(len(brd)):\n",
    "            for col in range(len(brd[row])):\n",
    "                a = pos(row, col)\n",
    "                a_nbrs = curr.board.neighbors(a)\n",
    "                if len(a_nbrs) > 0:\n",
    "                    with_nbrs.append((a,a_nbrs))\n",
    "        for p in with_nbrs:\n",
    "            for b in p[1]:\n",
    "                next_board = curr.board.jump(p[0],b)\n",
    "                next_moves = copy.copy(curr.moves)\n",
    "                next_moves.append((p[0],b))\n",
    "                frontier.append(state(next_board, next_moves))"
   ]
  },
  {
   "cell_type": "code",
   "execution_count": null,
   "id": "a3bcb2e3",
   "metadata": {},
   "outputs": [],
   "source": []
  },
  {
   "cell_type": "code",
   "execution_count": null,
   "id": "d3cf53c4",
   "metadata": {},
   "outputs": [],
   "source": []
  },
  {
   "cell_type": "code",
   "execution_count": null,
   "id": "34fdecc4",
   "metadata": {},
   "outputs": [],
   "source": []
  },
  {
   "cell_type": "code",
   "execution_count": null,
   "id": "3a735b9f",
   "metadata": {},
   "outputs": [],
   "source": []
  },
  {
   "cell_type": "code",
   "execution_count": null,
   "id": "1b29ccad",
   "metadata": {},
   "outputs": [],
   "source": []
  },
  {
   "cell_type": "code",
   "execution_count": null,
   "id": "04975484",
   "metadata": {},
   "outputs": [],
   "source": []
  },
  {
   "cell_type": "code",
   "execution_count": null,
   "id": "18006cc0",
   "metadata": {},
   "outputs": [],
   "source": []
  }
 ],
 "metadata": {
  "kernelspec": {
   "display_name": "Python 3 (ipykernel)",
   "language": "python",
   "name": "python3"
  },
  "language_info": {
   "codemirror_mode": {
    "name": "ipython",
    "version": 3
   },
   "file_extension": ".py",
   "mimetype": "text/x-python",
   "name": "python",
   "nbconvert_exporter": "python",
   "pygments_lexer": "ipython3",
   "version": "3.9.7"
  }
 },
 "nbformat": 4,
 "nbformat_minor": 5
}
